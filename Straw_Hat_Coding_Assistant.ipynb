{
  "cells": [
    {
      "cell_type": "markdown",
      "metadata": {
        "id": "aTaDCGTe78bK"
      },
      "source": [
        "# Fine-tune Llama 3.1 8B with Unsloth"
      ]
    },
    {
      "cell_type": "code",
      "execution_count": null,
      "metadata": {
        "id": "PoPKQjga6obN"
      },
      "outputs": [],
      "source": [
        "!pip install -qqq \"unsloth[colab-new] @ git+https://github.com/unslothai/unsloth.git\" --progress-bar off\n",
        "!pip install -qqq --no-deps \"xformers<0.0.27\" \"trl<0.9.0\" peft accelerate bitsandbytes --progress-bar off\n",
        "!pip install triton\n",
        "!pip install -U xformers --index-url https://download.pytorch.org/whl/cu121\n",
        "!pip install streamlit\n",
        "!npm install -g localtunnel\n",
        "import torch\n",
        "from trl import SFTTrainer\n",
        "from datasets import load_dataset\n",
        "from transformers import TrainingArguments, TextStreamer\n",
        "from unsloth.chat_templates import get_chat_template\n",
        "from unsloth import FastLanguageModel, is_bfloat16_supported"
      ]
    },
    {
      "cell_type": "markdown",
      "metadata": {
        "id": "matKaF-f-GiU"
      },
      "source": [
        "## 1. Load model for PEFT"
      ]
    },
    {
      "cell_type": "code",
      "execution_count": null,
      "metadata": {
        "id": "zGX9wG7Lhc-z"
      },
      "outputs": [],
      "source": [
        "# Load model\n",
        "max_seq_length = 2048\n",
        "model, tokenizer = FastLanguageModel.from_pretrained(\n",
        "    model_name=\"unsloth/Meta-Llama-3.1-8B-Instruct\", # \"unsloth/Meta-Llama-3.1-8B-bnb-4bit\",\n",
        "    max_seq_length=max_seq_length,\n",
        "    load_in_4bit=True,\n",
        "    dtype=None,\n",
        ")\n",
        "\n",
        "# Prepare model for PEFT\n",
        "model = FastLanguageModel.get_peft_model(\n",
        "    model,\n",
        "    r=16,\n",
        "    lora_alpha=16,\n",
        "    lora_dropout=0,\n",
        "    target_modules=[\"q_proj\", \"k_proj\", \"v_proj\", \"up_proj\", \"down_proj\", \"o_proj\", \"gate_proj\"],\n",
        "    use_rslora=True,\n",
        "    use_gradient_checkpointing=\"unsloth\"\n",
        ")\n",
        "print(model.print_trainable_parameters())"
      ]
    },
    {
      "cell_type": "markdown",
      "metadata": {
        "id": "hjDpwfjJ3RAL"
      },
      "source": [
        "## 2. Prepare data and tokenizer"
      ]
    },
    {
      "cell_type": "code",
      "execution_count": null,
      "metadata": {
        "id": "sqGnvaT8is-R"
      },
      "outputs": [],
      "source": [
        "tokenizer = get_chat_template(\n",
        "    tokenizer,\n",
        "    chat_template=\"chatml\",\n",
        "    mapping={\"role\" : \"from\", \"content\" : \"value\", \"user\" : \"human\", \"assistant\" : \"gpt\"}\n",
        ")\n",
        "\n",
        "def apply_template(examples):\n",
        "    messages = examples[\"conversations\"]\n",
        "    text = [tokenizer.apply_chat_template(message, tokenize=False, add_generation_prompt=False) for message in messages]\n",
        "    return {\"text\": text}\n",
        "\n",
        "dataset = load_dataset(\"mlabonne/FineTome-100k\", split=\"train\")\n",
        "dataset = dataset.map(apply_template, batched=True)"
      ]
    },
    {
      "cell_type": "markdown",
      "metadata": {
        "id": "zdfjufQd3XMi"
      },
      "source": [
        "## 3. Training"
      ]
    },
    {
      "cell_type": "code",
      "execution_count": null,
      "metadata": {
        "id": "gcPAQihcjcfl"
      },
      "outputs": [],
      "source": [
        "trainer=SFTTrainer(\n",
        "    model=model,\n",
        "    tokenizer=tokenizer,\n",
        "    train_dataset=dataset,\n",
        "    dataset_text_field=\"text\",\n",
        "    max_seq_length=max_seq_length,\n",
        "    dataset_num_proc=2,\n",
        "    packing=True,\n",
        "    args=TrainingArguments(\n",
        "        learning_rate=3e-4,\n",
        "        lr_scheduler_type=\"linear\",\n",
        "        per_device_train_batch_size=1,\n",
        "        gradient_accumulation_steps=4,\n",
        "        num_train_epochs=1,\n",
        "        # max_steps=200,\n",
        "        fp16=not is_bfloat16_supported(),\n",
        "        bf16=is_bfloat16_supported(),\n",
        "        logging_steps=1,\n",
        "        optim=\"adamw_8bit\",\n",
        "        weight_decay=0.01,\n",
        "        warmup_steps=1,\n",
        "        output_dir=\"output\",\n",
        "        seed=0,\n",
        "    ),\n",
        ")\n"
      ]
    },
    {
      "cell_type": "code",
      "execution_count": null,
      "metadata": {
        "id": "uuXkX9UAXgLO"
      },
      "outputs": [],
      "source": [
        "#@title Show current memory stats\n",
        "gpu_stats = torch.cuda.get_device_properties(0)\n",
        "start_gpu_memory = round(torch.cuda.max_memory_reserved() / 1024 / 1024 / 1024, 3)\n",
        "max_memory = round(gpu_stats.total_memory / 1024 / 1024 / 1024, 3)\n",
        "print(f\"GPU = {gpu_stats.name}. Max memory = {max_memory} GB.\")\n",
        "print(f\"{start_gpu_memory} GB of memory reserved.\")"
      ]
    },
    {
      "cell_type": "code",
      "execution_count": null,
      "metadata": {
        "id": "ZhtXhpKNXa-9"
      },
      "outputs": [],
      "source": [
        "trainer_stats = trainer.train()"
      ]
    },
    {
      "cell_type": "code",
      "execution_count": null,
      "metadata": {
        "id": "h1W_5cC3WYq7"
      },
      "outputs": [],
      "source": [
        "#@title Show final memory and time stats\n",
        "used_memory = round(torch.cuda.max_memory_reserved() / 1024 / 1024 / 1024, 3)\n",
        "used_memory_for_lora = round(used_memory - start_gpu_memory, 3)\n",
        "used_percentage = round(used_memory         /max_memory*100, 3)\n",
        "lora_percentage = round(used_memory_for_lora/max_memory*100, 3)\n",
        "print(f\"{trainer_stats.metrics['train_runtime']} seconds used for training.\")\n",
        "print(f\"{round(trainer_stats.metrics['train_runtime']/60, 2)} minutes used for training.\")\n",
        "print(f\"Peak reserved memory = {used_memory} GB.\")\n",
        "print(f\"Peak reserved memory for training = {used_memory_for_lora} GB.\")\n",
        "print(f\"Peak reserved memory % of max memory = {used_percentage} %.\")\n",
        "print(f\"Peak reserved memory for training % of max memory = {lora_percentage} %.\")"
      ]
    },
    {
      "cell_type": "markdown",
      "metadata": {
        "id": "CI_U9FHZ3ZLO"
      },
      "source": [
        "## 4. Inference"
      ]
    },
    {
      "cell_type": "code",
      "execution_count": null,
      "metadata": {
        "id": "5JXdjsLqkvZY"
      },
      "outputs": [],
      "source": [
        "# Load model for inference\n",
        "model = FastLanguageModel.for_inference(model)\n",
        "\n",
        "messages = [\n",
        "    {\"from\": \"human\", \"value\": \"Is 9.11 larger than 9.9?\"},\n",
        "]\n",
        "inputs = tokenizer.apply_chat_template(\n",
        "    messages,\n",
        "    tokenize=True,\n",
        "    add_generation_prompt=True,\n",
        "    return_tensors=\"pt\",\n",
        ").to(\"cuda\")\n",
        "\n",
        "text_streamer = TextStreamer(tokenizer)\n",
        "_ = model.generate(input_ids=inputs, streamer=text_streamer, max_new_tokens=128, use_cache=True)"
      ]
    },
    {
      "cell_type": "code",
      "execution_count": null,
      "metadata": {
        "id": "ff2f-dkig0Ld"
      },
      "outputs": [],
      "source": [
        "%load_ext tensorboard\n",
        "%tensorboard --logdir output/runs"
      ]
    },
    {
      "cell_type": "markdown",
      "metadata": {
        "id": "HunPZjPp3aWe"
      },
      "source": [
        "## 5. Save trained model"
      ]
    },
    {
      "cell_type": "code",
      "execution_count": null,
      "metadata": {
        "id": "fzcUOyksmgWH"
      },
      "outputs": [],
      "source": [
        "# model.save_pretrained_gguf(\"model\", tokenizer, \"q8_0\")\n",
        "# quant_methods = [\"q2_k\", \"q3_k_m\", \"q4_k_m\", \"q5_k_m\", \"q6_k\", \"q8_0\"]\n",
        "# for quant in quant_methods:\n",
        "#     model.push_to_hub_gguf(\"mlabonne/FineLlama-3.1-8B-GGUF\", tokenizer, quant)"
      ]
    },
    {
      "cell_type": "code",
      "execution_count": null,
      "metadata": {
        "id": "EA1QyMnoJwWk"
      },
      "outputs": [],
      "source": [
        "model.save_pretrained_merged(\"hugging_face_user_id_name/model_name\", tokenizer, save_method=\"merged_16bit\")\n",
        "model.push_to_hub_merged(\"hugging_face_user_id_name/model_name\", tokenizer, save_method=\"merged_16bit\", token = \"your_huggingface_token\")"
      ]
    },
    {
      "cell_type": "markdown",
      "metadata": {
        "id": "NqjD816KtMRg"
      },
      "source": [
        "# DPO"
      ]
    },
    {
      "cell_type": "code",
      "execution_count": null,
      "metadata": {
        "id": "6ImB04PsXvMM"
      },
      "outputs": [],
      "source": [
        "%%capture\n",
        "# Installs Unsloth, Xformers (Flash Attention) and all other packages!\n",
        "!pip install \"unsloth[colab-new] @ git+https://github.com/unslothai/unsloth.git\"\n",
        "!pip install --no-deps \"xformers<0.0.27\" \"trl<0.9.0\" peft accelerate bitsandbytes"
      ]
    },
    {
      "cell_type": "code",
      "execution_count": null,
      "metadata": {
        "id": "4hCzkJDxFpOc"
      },
      "outputs": [],
      "source": [
        "# One must patch the DPO Trainer first!\n",
        "from unsloth import PatchDPOTrainer\n",
        "PatchDPOTrainer()"
      ]
    },
    {
      "cell_type": "code",
      "execution_count": null,
      "metadata": {
        "id": "Xr_24VRdFpKM"
      },
      "outputs": [],
      "source": [
        "from unsloth import FastLanguageModel\n",
        "import torch\n",
        "max_seq_length = 2048 # Choose any! We auto support RoPE Scaling internally!\n",
        "dtype = None # None for auto detection. Float16 for Tesla T4, V100, Bfloat16 for Ampere+\n",
        "load_in_4bit = True # Use 4bit quantization to reduce memory usage. Can be False.\n",
        "\n",
        "model, tokenizer = FastLanguageModel.from_pretrained(\n",
        "    model_name = \"VivekChauhan06/Straw-Hat-Coding-Assistant-Llama-3.1-8B-Instruct-16bit\", # Choose ANY! eg mistralai/Mistral-7B-Instruct-v0.2\n",
        "    max_seq_length = max_seq_length,\n",
        "    dtype = dtype,\n",
        "    load_in_4bit = load_in_4bit,\n",
        "    # token = \"hf_...\", # use one if using gated models like meta-llama/Llama-2-7b-hf\n",
        ")"
      ]
    },
    {
      "cell_type": "code",
      "execution_count": null,
      "metadata": {
        "id": "EJCim8lvG8bJ"
      },
      "outputs": [],
      "source": [
        "torch.cuda.empty_cache()"
      ]
    },
    {
      "cell_type": "markdown",
      "metadata": {
        "id": "Hp30tl_nHT-4"
      },
      "source": [
        "<a name=\"Data\"></a>\n",
        "### Data Prep"
      ]
    },
    {
      "cell_type": "code",
      "execution_count": null,
      "metadata": {
        "id": "PAXkjoOQPVhQ"
      },
      "outputs": [],
      "source": [
        "#@title Alignment Handbook utils\n",
        "import os\n",
        "import re\n",
        "from typing import List, Literal, Optional\n",
        "\n",
        "from datasets import DatasetDict, concatenate_datasets, load_dataset, load_from_disk\n",
        "from datasets.builder import DatasetGenerationError\n",
        "\n",
        "\n",
        "DEFAULT_CHAT_TEMPLATE = \"{% for message in messages %}\\n{% if message['role'] == 'user' %}\\n{{ '<|user|>\\n' + message['content'] + eos_token }}\\n{% elif message['role'] == 'system' %}\\n{{ '<|system|>\\n' + message['content'] + eos_token }}\\n{% elif message['role'] == 'assistant' %}\\n{{ '<|assistant|>\\n'  + message['content'] + eos_token }}\\n{% endif %}\\n{% if loop.last and add_generation_prompt %}\\n{{ '<|assistant|>' }}\\n{% endif %}\\n{% endfor %}\"\n",
        "\n",
        "\n",
        "def apply_chat_template(\n",
        "    example, tokenizer, task: Literal[\"sft\", \"generation\", \"rm\", \"dpo\"] = \"sft\", assistant_prefix=\"<|assistant|>\\n\"\n",
        "):\n",
        "    def _strip_prefix(s, pattern):\n",
        "        # Use re.escape to escape any special characters in the pattern\n",
        "        return re.sub(f\"^{re.escape(pattern)}\", \"\", s)\n",
        "\n",
        "    if task in [\"sft\", \"generation\"]:\n",
        "        messages = example[\"messages\"]\n",
        "        # We add an empty system message if there is none\n",
        "        if messages[0][\"role\"] != \"system\":\n",
        "            messages.insert(0, {\"role\": \"system\", \"content\": \"\"})\n",
        "        example[\"text\"] = tokenizer.apply_chat_template(\n",
        "            messages, tokenize=False, add_generation_prompt=True if task == \"generation\" else False\n",
        "        )\n",
        "    elif task == \"rm\":\n",
        "        if all(k in example.keys() for k in (\"chosen\", \"rejected\")):\n",
        "            chosen_messages = example[\"chosen\"]\n",
        "            rejected_messages = example[\"rejected\"]\n",
        "            # We add an empty system message if there is none\n",
        "            if chosen_messages[0][\"role\"] != \"system\":\n",
        "                chosen_messages.insert(0, {\"role\": \"system\", \"content\": \"\"})\n",
        "            if rejected_messages[0][\"role\"] != \"system\":\n",
        "                rejected_messages.insert(0, {\"role\": \"system\", \"content\": \"\"})\n",
        "            example[\"text_chosen\"] = tokenizer.apply_chat_template(chosen_messages, tokenize=False)\n",
        "            example[\"text_rejected\"] = tokenizer.apply_chat_template(rejected_messages, tokenize=False)\n",
        "        else:\n",
        "            raise ValueError(\n",
        "                f\"Could not format example as dialogue for `rm` task! Require `[chosen, rejected]` keys but found {list(example.keys())}\"\n",
        "            )\n",
        "    elif task == \"dpo\":\n",
        "        if all(k in example.keys() for k in (\"chosen\", \"rejected\")):\n",
        "            # Compared to reward modeling, we filter out the prompt, so the text is everything after the last assistant token\n",
        "            prompt_messages = [[msg for msg in example[\"chosen\"] if msg[\"role\"] == \"user\"][0]]\n",
        "            # Insert system message\n",
        "            if example[\"chosen\"][0][\"role\"] != \"system\":\n",
        "                prompt_messages.insert(0, {\"role\": \"system\", \"content\": \"\"})\n",
        "            else:\n",
        "                prompt_messages.insert(0, example[\"chosen\"][0])\n",
        "            # TODO: handle case where chosen/rejected also have system messages\n",
        "            chosen_messages = example[\"chosen\"][1:]\n",
        "            rejected_messages = example[\"rejected\"][1:]\n",
        "            example[\"text_chosen\"] = tokenizer.apply_chat_template(chosen_messages, tokenize=False)\n",
        "            example[\"text_rejected\"] = tokenizer.apply_chat_template(rejected_messages, tokenize=False)\n",
        "            example[\"text_prompt\"] = tokenizer.apply_chat_template(\n",
        "                prompt_messages, tokenize=False, add_generation_prompt=True\n",
        "            )\n",
        "            example[\"text_chosen\"] = _strip_prefix(example[\"text_chosen\"], assistant_prefix)\n",
        "            example[\"text_rejected\"] = _strip_prefix(example[\"text_rejected\"], assistant_prefix)\n",
        "        else:\n",
        "            raise ValueError(\n",
        "                f\"Could not format example as dialogue for `dpo` task! Require `[chosen, rejected]` keys but found {list(example.keys())}\"\n",
        "            )\n",
        "    else:\n",
        "        raise ValueError(\n",
        "            f\"Task {task} not supported, please ensure that the provided task is one of {['sft', 'generation', 'rm', 'dpo']}\"\n",
        "        )\n",
        "    return example\n",
        "\n",
        "\n",
        "def get_datasets(\n",
        "    data_config: dict,\n",
        "    splits: List[str] = [\"train\", \"test\"],\n",
        "    shuffle: bool = True,\n",
        ") -> DatasetDict:\n",
        "    \"\"\"\n",
        "    Loads one or more datasets with varying training set proportions.\n",
        "\n",
        "    Args:\n",
        "        data_config (`DataArguments` or `dict`):\n",
        "            Dataset configuration and split proportions.\n",
        "        splits (`List[str]`, *optional*, defaults to `['train', 'test']`):\n",
        "            Dataset splits to load and mix. Assumes the splits exist in all datasets and have a `train_` or `test_` prefix.\n",
        "        shuffle (`bool`, *optional*, defaults to `True`):\n",
        "            Whether to shuffle the training and testing/validation data.\n",
        "\n",
        "    Returns\n",
        "        [`DatasetDict`]: The dataset dictionary containing the loaded datasets.\n",
        "    \"\"\"\n",
        "\n",
        "    if type(data_config) is dict:\n",
        "        # Structure of the input is:\n",
        "        #     dataset_mixer = {\n",
        "        #             \"dataset1\": 0.5,\n",
        "        #             \"dataset1\": 0.3,\n",
        "        #             \"dataset1\": 0.2,\n",
        "        #         }\n",
        "        dataset_mixer = data_config\n",
        "    else:\n",
        "        raise ValueError(f\"Data config {data_config} not recognized.\")\n",
        "\n",
        "    raw_datasets = mix_datasets(dataset_mixer, splits=splits, shuffle=shuffle)\n",
        "    return raw_datasets\n",
        "\n",
        "\n",
        "def mix_datasets(dataset_mixer: dict, splits: Optional[List[str]] = None, shuffle=True) -> DatasetDict:\n",
        "    \"\"\"\n",
        "    Loads and mixes datasets according to proportions specified in `dataset_mixer`.\n",
        "\n",
        "    Args:\n",
        "        dataset_mixer (`dict`):\n",
        "            Dictionary containing the dataset names and their training proportions. By default, all test proportions are 1.\n",
        "        splits (Optional[List[str]], *optional*, defaults to `None`):\n",
        "            Dataset splits to load and mix. Assumes the splits exist in all datasets and have a `train_` or `test_` prefix.\n",
        "        shuffle (`bool`, *optional*, defaults to `True`):\n",
        "            Whether to shuffle the training and testing/validation data.\n",
        "    \"\"\"\n",
        "    raw_datasets = DatasetDict()\n",
        "    raw_train_datasets = []\n",
        "    raw_val_datasets = []\n",
        "    fracs = []\n",
        "    for ds, frac in dataset_mixer.items():\n",
        "        fracs.append(frac)\n",
        "        for split in splits:\n",
        "            try:\n",
        "                # Try first if dataset on a Hub repo\n",
        "                dataset = load_dataset(ds, split=split)\n",
        "            except DatasetGenerationError:\n",
        "                # If not, check local dataset\n",
        "                dataset = load_from_disk(os.path.join(ds, split))\n",
        "\n",
        "            if \"train\" in split:\n",
        "                raw_train_datasets.append(dataset)\n",
        "            elif \"test\" in split:\n",
        "                raw_val_datasets.append(dataset)\n",
        "            else:\n",
        "                raise ValueError(f\"Split type {split} not recognized as one of test or train.\")\n",
        "\n",
        "    if any(frac < 0 for frac in fracs):\n",
        "        raise ValueError(\"Dataset fractions cannot be negative.\")\n",
        "\n",
        "    if len(raw_train_datasets) > 0:\n",
        "        train_subsets = []\n",
        "        for dataset, frac in zip(raw_train_datasets, fracs):\n",
        "            train_subset = dataset.select(range(int(frac * len(dataset))))\n",
        "            train_subsets.append(train_subset)\n",
        "        if shuffle:\n",
        "            raw_datasets[\"train\"] = concatenate_datasets(train_subsets).shuffle(seed=42)\n",
        "        else:\n",
        "            raw_datasets[\"train\"] = concatenate_datasets(train_subsets)\n",
        "    # No subsampling for test datasets to enable fair comparison across models\n",
        "    if len(raw_val_datasets) > 0:\n",
        "        if shuffle:\n",
        "            raw_datasets[\"test\"] = concatenate_datasets(raw_val_datasets).shuffle(seed=42)\n",
        "        else:\n",
        "            raw_datasets[\"test\"] = concatenate_datasets(raw_val_datasets)\n",
        "\n",
        "    if len(raw_datasets) == 0:\n",
        "        raise ValueError(\n",
        "            f\"Dataset {dataset_mixer} not recognized with split {split}. Check the dataset has been correctly formatted.\"\n",
        "        )\n",
        "\n",
        "    return raw_datasets"
      ]
    },
    {
      "cell_type": "code",
      "execution_count": null,
      "metadata": {
        "id": "IILOxqj2Fooj"
      },
      "outputs": [],
      "source": [
        "raw_datasets = get_datasets(\n",
        "    {\"HuggingFaceH4/ultrafeedback_binarized\" : 0.5}, # 50% sampled\n",
        "    splits = [\"train_prefs\", \"test_prefs\"],\n",
        ")\n",
        "column_names = list(raw_datasets[\"train\"].features)\n",
        "\n",
        "raw_datasets = raw_datasets.map(\n",
        "    apply_chat_template,\n",
        "    fn_kwargs = {\"tokenizer\": tokenizer, \"task\": \"dpo\"},\n",
        "    num_proc = 12,\n",
        "    remove_columns = column_names,\n",
        "    desc = \"Formatting comparisons with prompt template\",\n",
        ")\n",
        "\n",
        "# Replace column names with what TRL needs, text_chosen -> chosen and text_rejected -> rejected\n",
        "for split in [\"train\", \"test\"]:\n",
        "    raw_datasets[split] = raw_datasets[split].rename_columns(\n",
        "        {\"text_prompt\": \"prompt\", \"text_chosen\": \"chosen\", \"text_rejected\": \"rejected\"}\n",
        "    )"
      ]
    },
    {
      "cell_type": "markdown",
      "metadata": {
        "id": "2kYS71hXHOpR"
      },
      "source": [
        "We shall print a random item from the dataset"
      ]
    },
    {
      "cell_type": "code",
      "execution_count": null,
      "metadata": {
        "id": "vZE15tzaHLYl"
      },
      "outputs": [],
      "source": [
        "import pprint\n",
        "row = raw_datasets[\"train\"][8]\n",
        "pprint.pprint(row[\"prompt\"])\n",
        "pprint.pprint(row[\"chosen\"])\n",
        "pprint.pprint(row[\"rejected\"])"
      ]
    },
    {
      "cell_type": "code",
      "execution_count": null,
      "metadata": {
        "id": "EpstSAtOIpwe"
      },
      "outputs": [],
      "source": [
        "model = FastLanguageModel.get_peft_model(\n",
        "    model,\n",
        "    r = 8, # Choose any number > 0 ! Suggested 8, 16, 32, 64, 128\n",
        "    target_modules = [\"q_proj\", \"k_proj\", \"v_proj\", \"o_proj\",\n",
        "                      \"gate_proj\", \"up_proj\", \"down_proj\",],\n",
        "    lora_alpha = 16,\n",
        "    lora_dropout = 0, # Currently only supports dropout = 0\n",
        "    bias = \"none\",    # Currently only supports bias = \"none\"\n",
        "    use_gradient_checkpointing = \"unsloth\", # True or \"unsloth\" for very long context\n",
        "    random_state = 3407,\n",
        "    use_rslora = False,  # rank stabilized LoRA\n",
        "    loftq_config = None, # LoftQ\n",
        ")"
      ]
    },
    {
      "cell_type": "markdown",
      "metadata": {
        "id": "ssD6wM1zIxxj"
      },
      "source": [
        "<a name=\"Train\"></a>\n",
        "### Train the DPO model"
      ]
    },
    {
      "cell_type": "code",
      "execution_count": null,
      "metadata": {
        "id": "3BFrOxjdIpnw"
      },
      "outputs": [],
      "source": [
        "# One must patch the DPO Trainer first!\n",
        "from unsloth import PatchDPOTrainer\n",
        "PatchDPOTrainer()"
      ]
    },
    {
      "cell_type": "code",
      "execution_count": null,
      "metadata": {
        "id": "REXks2tcIpiQ"
      },
      "outputs": [],
      "source": [
        "from transformers import TrainingArguments\n",
        "from trl import DPOTrainer\n",
        "from unsloth import is_bfloat16_supported\n",
        "\n",
        "dpo_trainer = DPOTrainer(\n",
        "    model = model,\n",
        "    ref_model = None,\n",
        "    args = TrainingArguments(\n",
        "        per_device_train_batch_size = 1,\n",
        "        gradient_accumulation_steps = 2,\n",
        "        gradient_checkpointing = True,\n",
        "        warmup_ratio = 0.1,\n",
        "        num_train_epochs = 1,\n",
        "        max_steps = 200,\n",
        "        learning_rate = 2e-6,\n",
        "        fp16 = not is_bfloat16_supported(),\n",
        "        bf16 = is_bfloat16_supported(),\n",
        "        logging_steps = 1,\n",
        "        optim = \"adamw_8bit\",\n",
        "        weight_decay = 0.0,\n",
        "        lr_scheduler_type = \"linear\",\n",
        "        seed = 42,\n",
        "        output_dir = \"outputs\",\n",
        "    ),\n",
        "    beta = 0.1,\n",
        "    train_dataset = raw_datasets[\"train\"],\n",
        "    # eval_dataset = raw_datasets[\"test\"],\n",
        "    tokenizer = tokenizer,\n",
        "    max_length = 1024,\n",
        "    max_prompt_length = 512,\n",
        ")"
      ]
    },
    {
      "cell_type": "code",
      "execution_count": null,
      "metadata": {
        "id": "5z86KEA6Ipcp"
      },
      "outputs": [],
      "source": [
        "dpo_trainer.train()"
      ]
    },
    {
      "cell_type": "code",
      "execution_count": null,
      "metadata": {
        "id": "Zfs1bCYKbNgK"
      },
      "outputs": [],
      "source": [
        "torch.cuda.empty_cache()"
      ]
    },
    {
      "cell_type": "code",
      "execution_count": null,
      "metadata": {
        "id": "P33-AZiYHCiV"
      },
      "outputs": [],
      "source": [
        "%load_ext tensorboard\n",
        "%tensorboard --logdir outputs/runs"
      ]
    },
    {
      "cell_type": "code",
      "execution_count": null,
      "metadata": {
        "id": "zsouW09yrbrC"
      },
      "outputs": [],
      "source": [
        "model.save_pretrained_merged(\"hugging_face_user_id_name/model_name\", tokenizer, save_method=\"merged_16bit\")\n",
        "model.push_to_hub_merged(\"hugging_face_user_id_name/model_name\", tokenizer, save_method=\"merged_16bit\", token = \"your_huggingface_token\")"
      ]
    },
    {
      "cell_type": "markdown",
      "metadata": {
        "id": "G_pIF6ttt920"
      },
      "source": [
        "# Streamlit Application"
      ]
    },
    {
      "cell_type": "code",
      "execution_count": null,
      "metadata": {
        "id": "kG_JSzG2hB4-"
      },
      "outputs": [],
      "source": [
        "%%writefile app.py\n",
        "import re\n",
        "import streamlit as st\n",
        "from transformers import pipeline, AutoTokenizer, AutoModelForCausalLM\n",
        "import time\n",
        "\n",
        "# Set the page configuration at the very top\n",
        "st.set_page_config(page_title=\"Straw Hat Coding Assistant\", page_icon=\"🎩\", layout=\"wide\")\n",
        "\n",
        "# Load the model and tokenizer only once\n",
        "@st.cache_resource\n",
        "def load_model():\n",
        "    model_name = \"VivekChauhan06/Straw-Hat-Coding-Assistant-Llama-3.1-8B-Instruct\"\n",
        "    tokenizer = AutoTokenizer.from_pretrained(model_name)\n",
        "    model = AutoModelForCausalLM.from_pretrained(model_name)\n",
        "    pipe = pipeline(\n",
        "        \"text-generation\",\n",
        "        model=model,\n",
        "        tokenizer=tokenizer,\n",
        "    )\n",
        "    return pipe\n",
        "\n",
        "# Load the model pipeline\n",
        "pipe = load_model()\n",
        "\n",
        "# @st.cache_data\n",
        "def generate_response(prompt, temperature, top_k, max_length):\n",
        "\n",
        "    prompt_template = f\"\"\"\n",
        "    <|start_header_id|> You are Straw Hat Coding AI, a highly skilled and knowledgeable coding assistant.\n",
        "    You generate concise, readable, and well-documented Python code based on user input,\n",
        "    ensuring accuracy, clarity, efficiency, and best practices. Be friendly, helpful, and supportive.\n",
        "    <|start_params|> max_new_tokens=2048, programming_language=python, task=write <|end_params|>\n",
        "    <|start_text|><|code|><|lang_python|> {prompt} <|end_code|>\n",
        "    \"\"\"\n",
        "\n",
        "    start_time = time.time()\n",
        "    generated_text = pipe(\n",
        "        prompt_template,\n",
        "        max_length=max_length,\n",
        "        temperature=temperature,\n",
        "        top_p=0.95,\n",
        "        top_k=top_k,\n",
        "    )[0]['generated_text']\n",
        "    end_time = time.time()\n",
        "\n",
        "    # Post-processing: Remove system prompt and special tokens\n",
        "    generated_text = generated_text.replace(prompt_template, '')\n",
        "    special_tokens_pattern = r'<\\|.*?\\|>'\n",
        "    generated_text = re.sub(special_tokens_pattern, '', generated_text)\n",
        "\n",
        "    # Remove leading/trailing whitespace\n",
        "    generated_text = generated_text.strip()\n",
        "\n",
        "    response_time = end_time - start_time\n",
        "    return generated_text, response_time\n",
        "\n",
        "# Sidebar for parameter adjustments\n",
        "st.sidebar.title(\"Parameters\")\n",
        "temperature = st.sidebar.slider(\"Temperature\", min_value=0.1, max_value=1.0, value=0.7, step=0.1)\n",
        "top_k = st.sidebar.slider(\"Top K\", min_value=1, max_value=100, value=50, step=1)\n",
        "max_length = st.sidebar.slider(\"Max Length\", min_value=100, max_value=2048, value=500, step=50)\n",
        "\n",
        "st.sidebar.title(\"About\")\n",
        "st.sidebar.info(\"This is a Straw Hat Coding Assistant Fine tuned on Llama 3.1 model. It generates Python code based on your prompts. Adjust the parameters in the sidebar to control the code generation.\")\n",
        "\n",
        "# Initialize chat history\n",
        "if \"messages\" not in st.session_state:\n",
        "    st.session_state.messages = []\n",
        "\n",
        "# Display chat messages from history on app rerun\n",
        "for message in st.session_state.messages:\n",
        "    with st.chat_message(message[\"role\"]):\n",
        "        st.markdown(message[\"content\"])\n",
        "        if \"response_time\" in message:\n",
        "            st.caption(f\"Response Time: {message['response_time']:.2f} seconds\")\n",
        "\n",
        "# React to user input\n",
        "if prompt := st.chat_input(\"What Python code would you like me to generate?\"):\n",
        "    # Display user message in chat message container\n",
        "    st.chat_message(\"user\").markdown(prompt)\n",
        "    # Add user message to chat history\n",
        "    st.session_state.messages.append({\"role\": \"user\", \"content\": prompt})\n",
        "\n",
        "    # Generate response\n",
        "    response, response_time = generate_response(prompt, temperature, top_k, max_length)\n",
        "\n",
        "    # Display assistant response in chat message container\n",
        "    with st.chat_message(\"assistant\"):\n",
        "        st.code(response, language=\"python\")\n",
        "        st.caption(f\"Response Time: {response_time:.2f} seconds\")\n",
        "\n",
        "    # Add assistant response to chat history\n",
        "    st.session_state.messages.append({\"role\": \"assistant\", \"content\": response, \"response_time\": response_time})"
      ]
    },
    {
      "cell_type": "code",
      "execution_count": null,
      "metadata": {
        "id": "EVPdzHCmNO6A"
      },
      "outputs": [],
      "source": [
        "! wget -q -O - ipv4.icanhazip.com"
      ]
    },
    {
      "cell_type": "code",
      "execution_count": null,
      "metadata": {
        "id": "CiJCezXhuqx6"
      },
      "outputs": [],
      "source": [
        "! streamlit run app.py & npx localtunnel --port 8501"
      ]
    }
  ],
  "metadata": {
    "accelerator": "GPU",
    "colab": {
      "gpuType": "T4",
      "provenance": []
    },
    "kernelspec": {
      "display_name": "Python 3",
      "name": "python3"
    },
    "language_info": {
      "name": "python"
    }
  },
  "nbformat": 4,
  "nbformat_minor": 0
}
